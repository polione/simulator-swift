{
 "cells": [
  {
   "cell_type": "code",
   "execution_count": 9,
   "metadata": {
    "ExecuteTime": {
     "end_time": "2024-02-16T16:52:56.556745Z",
     "start_time": "2024-02-16T16:52:47.090335Z"
    }
   },
   "outputs": [
    {
     "name": "stdout",
     "output_type": "stream",
     "text": [
      "Requirement already satisfied: sqlalchemy in /usr/local/lib/python3.10/site-packages (2.0.7)\n",
      "Requirement already satisfied: typing-extensions>=4.2.0 in /usr/local/lib/python3.10/site-packages (from sqlalchemy) (4.5.0)\n",
      "Requirement already satisfied: greenlet!=0.4.17 in /usr/local/lib/python3.10/site-packages (from sqlalchemy) (2.0.2)\n",
      "Note: you may need to restart the kernel to use updated packages.\n",
      "Requirement already satisfied: pymysql in /usr/local/lib/python3.10/site-packages (1.1.0)\n",
      "Note: you may need to restart the kernel to use updated packages.\n",
      "Requirement already satisfied: cryptography in /usr/local/lib/python3.10/site-packages (42.0.3)\n",
      "Requirement already satisfied: cffi>=1.12 in /usr/local/lib/python3.10/site-packages (from cryptography) (1.15.1)\n",
      "Requirement already satisfied: pycparser in /usr/local/lib/python3.10/site-packages (from cffi>=1.12->cryptography) (2.21)\n",
      "Note: you may need to restart the kernel to use updated packages.\n",
      "Requirement already satisfied: mysql-connector-python in /usr/local/lib/python3.10/site-packages (8.3.0)\n",
      "Note: you may need to restart the kernel to use updated packages.\n"
     ]
    }
   ],
   "source": [
    "%pip install sqlalchemy\n",
    "%pip install pymysql\n",
    "%pip install cryptography\n",
    "%pip install mysql-connector-python"
   ]
  },
  {
   "cell_type": "markdown",
   "metadata": {
    "collapsed": false
   },
   "source": [
    "# Exhaustive Performance"
   ]
  },
  {
   "cell_type": "code",
   "execution_count": 1,
   "metadata": {},
   "outputs": [],
   "source": [
    "import mysql.connector\n",
    "mydb = mysql.connector.connect(\n",
    "  host=\"172.20.28.51\",\n",
    "  user=\"root\",\n",
    "  password=\"r00t\",\n",
    "  port=\"3309\",\n",
    "    database=\"pippo\"\n",
    ")\n",
    "mycursor = mydb.cursor()\n",
    "TABLE = \"pippo.gamma_10nodes\"\n",
    "MAX_NUMBER_OF_NODES = 10\n",
    "MAX_NUMBER_OF_SERVICES = 4\n",
    "\n",
    "\n",
    "\n"
   ]
  },
  {
   "cell_type": "code",
   "execution_count": 5,
   "metadata": {
    "ExecuteTime": {
     "end_time": "2024-02-19T10:40:37.630634Z",
     "start_time": "2024-02-19T10:40:37.585195Z"
    },
    "collapsed": false
   },
   "outputs": [
    {
     "name": "stdout",
     "output_type": "stream",
     "text": [
      "2.0 385.1331866666667 748.2558973333332 1489.4088823333334 3054.275078111111\n",
      "3.0 1191.2728139999997 3671.9400215555556 10939.269095777778 33673.570625444445\n",
      "4.0 2819.3528526666664 11271.009261222223 46553.05932722223 187534.37834499998\n",
      "5.0 5476.306600777778 28084.670620222223 142039.89588722223 727117.330474889\n",
      "6.0 9359.66719888889 57917.33728611111 349490.6690896667 2194225.3378116665\n"
     ]
    }
   ],
   "source": [
    "result_dict = {}\n",
    "\n",
    "mycursor.execute(f\"\"\"SELECT number_of_services, number_of_nodes, avg(execution_time) as execution\n",
    "        FROM {TABLE}\n",
    "        WHERE window_size = number_of_nodes\n",
    "        GROUP BY number_of_nodes, number_of_services\n",
    "        ORDER BY number_of_services\n",
    "    \"\"\")\n",
    "\n",
    "for row in mycursor:\n",
    "    number_of_services = row[0]\n",
    "    number_of_nodes = row[1]\n",
    "    execution_time = row[2]\n",
    "\n",
    "    if number_of_services not in result_dict:\n",
    "        result_dict[number_of_services] = [execution_time]\n",
    "    else:\n",
    "        result_dict[number_of_services].append(execution_time)\n",
    "\n",
    "# Print the formatted output\n",
    "with open(f\"10_exhaustive_performance_{TABLE}.dat\", \"w\") as file:\n",
    "    for number_of_nodes, execution_times in result_dict.items():\n",
    "        starred = \" \".join(map(str, execution_times))\n",
    "        file.write(f\"{number_of_nodes} {starred}\\n\")\n",
    "        print(number_of_nodes, starred)\n",
    "\n",
    "\n"
   ]
  },
  {
   "cell_type": "markdown",
   "metadata": {
    "collapsed": false
   },
   "source": [
    "# Window Time Performance "
   ]
  },
  {
   "cell_type": "markdown",
   "metadata": {},
   "source": []
  },
  {
   "cell_type": "code",
   "execution_count": 6,
   "metadata": {
    "ExecuteTime": {
     "end_time": "2024-02-19T11:08:02.591352Z",
     "start_time": "2024-02-19T11:08:02.320780Z"
    },
    "collapsed": false
   },
   "outputs": [
    {
     "name": "stdout",
     "output_type": "stream",
     "text": [
      "1.0 2.0 347.29541611111114\n",
      "1.0 3.0 463.35934988888886\n",
      "1.0 4.0 599.2895064444444\n",
      "1.0 5.0 682.9574964444444\n",
      "1.0 6.0 803.1902174444444\n",
      "2.0 2.0 392.6762254444445\n",
      "2.0 3.0 801.1336196666666\n",
      "2.0 4.0 1366.8615504444444\n",
      "2.0 5.0 2092.789003\n",
      "2.0 6.0 2954.082864444444\n",
      "3.0 2.0 385.1331866666667\n",
      "3.0 3.0 1191.2728139999997\n",
      "3.0 4.0 2819.3528526666664\n",
      "3.0 5.0 5476.306600777778\n",
      "3.0 6.0 9359.66719888889\n",
      "1.0 2.0 460.70542355555557\n",
      "1.0 3.0 606.112430111111\n",
      "1.0 4.0 767.9123361111111\n",
      "1.0 5.0 902.8550632222223\n",
      "1.0 6.0 1071.8157087777777\n",
      "2.0 2.0 591.0031093333333\n",
      "2.0 3.0 1188.9616012222223\n",
      "2.0 4.0 2010.541966888889\n",
      "2.0 5.0 3066.9897326666664\n",
      "2.0 6.0 4446.676598222222\n",
      "3.0 2.0 741.9226948888889\n",
      "3.0 3.0 2346.9961632222216\n",
      "3.0 4.0 5399.425157777778\n",
      "3.0 5.0 10594.81294488889\n",
      "3.0 6.0 18322.330477777778\n",
      "4.0 2.0 748.2558973333332\n",
      "4.0 3.0 3671.9400215555556\n",
      "4.0 4.0 11271.009261222223\n",
      "4.0 5.0 28084.670620222223\n",
      "4.0 6.0 57917.33728611111\n",
      "1.0 2.0 587.8818148888889\n",
      "1.0 3.0 754.7655778888889\n",
      "1.0 4.0 935.3254652222222\n",
      "1.0 5.0 1126.8193965555556\n",
      "1.0 6.0 1324.371015111111\n",
      "2.0 2.0 787.4120004444444\n",
      "2.0 3.0 1529.4041197777779\n",
      "2.0 4.0 2598.7845466666668\n",
      "2.0 5.0 4007.5822528888884\n",
      "2.0 6.0 5718.1681923333335\n",
      "3.0 2.0 1088.5686967777779\n",
      "3.0 3.0 3356.898609555555\n",
      "3.0 4.0 7882.868672222223\n",
      "3.0 5.0 15324.59869311111\n",
      "3.0 6.0 26450.436689\n",
      "4.0 2.0 1455.7874686666667\n",
      "4.0 3.0 6861.904867444445\n",
      "4.0 4.0 22071.59568588889\n",
      "4.0 5.0 53850.1055851111\n",
      "4.0 6.0 110294.83710455555\n",
      "5.0 2.0 1489.4088823333334\n",
      "5.0 3.0 10939.269095777778\n",
      "5.0 4.0 46553.05932722223\n",
      "5.0 5.0 142039.89588722223\n",
      "5.0 6.0 349490.6690896667\n",
      "1.0 2.0 673.685616888889\n",
      "1.0 3.0 920.126364222222\n",
      "1.0 4.0 1130.7059305555554\n",
      "1.0 5.0 1351.894160333333\n",
      "1.0 6.0 1556.3012703333334\n",
      "2.0 2.0 951.5413687777777\n",
      "2.0 3.0 1896.4953688888886\n",
      "2.0 4.0 3207.0478527777773\n",
      "2.0 5.0 4970.914475444444\n",
      "2.0 6.0 7017.600103111112\n",
      "3.0 2.0 1416.6254098888887\n",
      "3.0 3.0 4467.425256777778\n",
      "3.0 4.0 10246.029092333332\n",
      "3.0 5.0 20167.35804177778\n",
      "3.0 6.0 34497.54908155555\n",
      "4.0 2.0 2096.780932888889\n",
      "4.0 3.0 10042.84639688889\n",
      "4.0 4.0 31793.54607544445\n",
      "4.0 5.0 78402.17573022222\n",
      "4.0 6.0 163877.82026677777\n",
      "5.0 2.0 2862.0976822222224\n",
      "5.0 3.0 20949.125588444447\n",
      "5.0 4.0 89400.05563388889\n",
      "5.0 5.0 275716.29899811116\n",
      "5.0 6.0 684225.5127382223\n",
      "6.0 2.0 3054.275078111111\n",
      "6.0 3.0 33673.570625444445\n",
      "6.0 4.0 187534.37834499998\n",
      "6.0 5.0 727117.330474889\n",
      "6.0 6.0 2194225.3378116665\n"
     ]
    }
   ],
   "source": [
    "\n",
    "\n",
    "mycursor = mydb.cursor()\n",
    "#result_dict = {}\n",
    "for n in range(2,8):\n",
    "\n",
    "    mycursor.execute(f\"\"\"SELECT window_size,number_of_services, number_of_nodes, avg(execution_time) as execution\n",
    "            FROM  {TABLE}\n",
    "            WHERE number_of_nodes =  {n}\n",
    "            GROUP BY number_of_nodes, number_of_services,window_size\n",
    "            ORDER BY window_size\n",
    "\n",
    "        \"\"\")\n",
    "\n",
    "\n",
    "    result_dict = {}\n",
    "    for row in mycursor:\n",
    "        window_size, number_of_services, number_of_nodes, execution_time  = row\n",
    "        if window_size not in result_dict:\n",
    "            result_dict[window_size] = {number_of_services: [execution_time]}\n",
    "        else:\n",
    "            if number_of_services not in result_dict[window_size]:\n",
    "                result_dict[window_size][number_of_services] = [execution_time]\n",
    "            else:\n",
    "                result_dict[window_size][number_of_services].append(execution_time)\n",
    "\n",
    "    with open(f\"window_time_performance_{TABLE}_n{n}.dat\", \"w\") as file:\n",
    "        for window_size, services in result_dict.items():\n",
    "            for number_of_services, execution_times in services.items():\n",
    "                starred = \" \".join(map(str, execution_times))\n",
    "                file.write(f\"{number_of_services} {starred}\\n\")\n",
    "                print(window_size, number_of_services, starred)\n",
    "\n",
    "            file.write(\"\\n\\n\")\n",
    "\n",
    "\n",
    "    # Print the formatted output\n",
    "    # with open(f\"window_time_performance_{TABLE}_n{n}_w{w}.dat\", \"w\") as file:\n",
    "    #     for number_of_nodes, execution_times in result_dict.items():\n",
    "    #         starred = \" \".join(map(str, execution_times))\n",
    "    #         file.write(f\"{number_of_nodes} {starred}\\n\")\n",
    "    #         print(number_of_nodes, starred)\n",
    "\n",
    "\n"
   ]
  },
  {
   "cell_type": "markdown",
   "metadata": {},
   "source": [
    "# Window Quality Performance"
   ]
  },
  {
   "cell_type": "code",
   "execution_count": 3,
   "metadata": {},
   "outputs": [
    {
     "name": "stdout",
     "output_type": "stream",
     "text": [
      "2.0 0.2654840054106017\n",
      "3.0 0.26519468260384416\n",
      "4.0 0.19742800020798015\n",
      "2.0 0.24852415133337122\n",
      "3.0 0.23480343355900996\n",
      "4.0 0.16795884545799655\n",
      "2.0 0.23728507062530246\n",
      "3.0 0.20781135807084442\n",
      "4.0 0.12970760869856765\n",
      "2.0 0.22558662024907294\n",
      "3.0 0.2056769071912643\n",
      "4.0 0.12970760869856765\n",
      "2.0 0.22401998263752787\n",
      "3.0 0.20048193671983236\n",
      "4.0 0.12970760869856765\n",
      "2.0 0.2206860311286033\n",
      "3.0 0.1994860454043172\n",
      "4.0 0.12970760869856765\n",
      "2.0 0.2142337587772342\n",
      "3.0 0.19841083595019515\n",
      "4.0 0.12970760869856765\n",
      "2.0 0.2142337587772342\n",
      "3.0 0.19841083595019515\n",
      "4.0 0.12970760869856765\n",
      "2.0 0.3095295357436818\n",
      "3.0 0.23551905506329812\n",
      "4.0 0.24473470559099805\n",
      "2.0 0.25529399822833904\n",
      "3.0 0.2071433893096791\n",
      "4.0 0.24184566695113374\n",
      "2.0 0.25641088921536254\n",
      "3.0 0.20393988690732065\n",
      "4.0 0.2472605718219012\n",
      "2.0 0.2477085715220254\n",
      "3.0 0.2111547492351853\n",
      "4.0 0.23714166769651832\n",
      "2.0 0.2467760146518584\n",
      "3.0 0.1959827245094932\n",
      "4.0 0.23248149675405547\n",
      "2.0 0.24329323238971964\n",
      "3.0 0.19393501583123776\n",
      "4.0 0.23248149675405547\n",
      "2.0 0.24329323238971964\n",
      "3.0 0.19550255412720396\n",
      "4.0 0.23248149675405547\n",
      "2.0 0.24056974978119172\n",
      "3.0 0.19550255412720396\n",
      "2.0 0.2389020551204032\n",
      "3.0 0.19276315653312984\n",
      "2.0 0.3339575192847263\n",
      "3.0 0.24852653989543771\n",
      "2.0 0.30974651936294395\n",
      "3.0 0.23316540319292645\n",
      "2.0 0.29651787946600305\n",
      "3.0 0.2381280055440094\n",
      "2.0 0.27562245207666347\n",
      "3.0 0.2179200817286474\n",
      "2.0 0.2612978773009709\n",
      "3.0 0.22469540824240006\n",
      "2.0 0.2612978773009709\n",
      "3.0 0.21987967340958414\n",
      "2.0 0.25847547673375354\n",
      "3.0 0.21383893115628072\n",
      "2.0 0.25177604906428697\n",
      "3.0 0.22787676851917388\n",
      "2.0 0.24663189411030406\n",
      "3.0 0.22787676851917388\n",
      "2.0 0.2495864239615125\n",
      "3.0 0.23501705765753655\n"
     ]
    }
   ],
   "source": [
    "mycursor = mydb.cursor()\n",
    "#result_dict = {}\n",
    "for n in range(8,MAX_NUMBER_OF_NODES+1):\n",
    "    for w in range(1,n+1):\n",
    "        query = f\"\"\"SELECT number_of_services, number_of_nodes, avg(metric)\n",
    "                FROM {TABLE}\n",
    "                WHERE number_of_nodes = {n} AND window_size = {w}\n",
    "                GROUP BY number_of_nodes, number_of_services,window_size\n",
    "                ORDER BY number_of_services\n",
    "            \"\"\"\n",
    "        mycursor.execute(query)\n",
    "\n",
    "        result_dict = {}\n",
    "        for row in mycursor:\n",
    "            number_of_services = row[0]\n",
    "            number_of_nodes = row[1]\n",
    "            execution_time = row[2]\n",
    "\n",
    "            if number_of_services not in result_dict:\n",
    "                result_dict[number_of_services] = [execution_time]\n",
    "            else:\n",
    "                result_dict[number_of_services].append(execution_time)\n",
    "\n",
    "        # Print the formatted output\n",
    "        with open(f\"10_window_quality_performance_{TABLE}_n{n}_w{w}.dat\", \"w\") as file:\n",
    "            for number_of_nodes, execution_times in result_dict.items():\n",
    "                starred = \" \".join(map(str, execution_times))\n",
    "                file.write(f\"{number_of_nodes} {starred}\\n\")\n",
    "                print(number_of_nodes, starred)"
   ]
  },
  {
   "cell_type": "code",
   "execution_count": 8,
   "metadata": {},
   "outputs": [
    {
     "ename": "NameError",
     "evalue": "name 'wino' is not defined",
     "output_type": "error",
     "traceback": [
      "\u001b[0;31m---------------------------------------------------------------------------\u001b[0m",
      "\u001b[0;31mNameError\u001b[0m                                 Traceback (most recent call last)",
      "Cell \u001b[0;32mIn[8], line 28\u001b[0m\n\u001b[1;32m     26\u001b[0m \u001b[38;5;28;01mfor\u001b[39;00m number_of_nodes, execution_times \u001b[38;5;129;01min\u001b[39;00m result_dict\u001b[38;5;241m.\u001b[39mitems():\n\u001b[1;32m     27\u001b[0m     starred \u001b[38;5;241m=\u001b[39m \u001b[38;5;124m\"\u001b[39m\u001b[38;5;124m \u001b[39m\u001b[38;5;124m\"\u001b[39m\u001b[38;5;241m.\u001b[39mjoin(\u001b[38;5;28mmap\u001b[39m(\u001b[38;5;28mstr\u001b[39m, execution_times))\n\u001b[0;32m---> 28\u001b[0m     file\u001b[38;5;241m.\u001b[39mwrite(\u001b[38;5;124mf\u001b[39m\u001b[38;5;124m\"\u001b[39m\u001b[38;5;132;01m{\u001b[39;00m\u001b[43mwino\u001b[49m\u001b[38;5;132;01m}\u001b[39;00m\u001b[38;5;124m \u001b[39m\u001b[38;5;132;01m{\u001b[39;00mnumber_of_nodes\u001b[38;5;132;01m}\u001b[39;00m\u001b[38;5;124m \u001b[39m\u001b[38;5;132;01m{\u001b[39;00mstarred\u001b[38;5;132;01m}\u001b[39;00m\u001b[38;5;130;01m\\n\u001b[39;00m\u001b[38;5;124m\"\u001b[39m)\n\u001b[1;32m     29\u001b[0m     \u001b[38;5;28mprint\u001b[39m(number_of_nodes, starred)\n",
      "\u001b[0;31mNameError\u001b[0m: name 'wino' is not defined"
     ]
    }
   ],
   "source": [
    "\n",
    "\n",
    "mycursor = mydb.cursor()\n",
    "#result_dict = {}\n",
    "for n in range(2,6):\n",
    "    for w in range(1,n):\n",
    "        query = f\"\"\"SELECT number_of_services, number_of_nodes, avg(percentage)\n",
    "                FROM pippo.mytable\n",
    "                WHERE number_of_nodes = {n} AND window_size = {w}\n",
    "                GROUP BY number_of_nodes, number_of_services,window_size\n",
    "                ORDER BY number_of_services\n",
    "            \"\"\"\n",
    "        mycursor.execute(query)\n",
    "\n",
    "        result_dict = {}\n",
    "        for row in mycursor:\n",
    "            number_of_services = row[0]\n",
    "            number_of_nodes = row[1]\n",
    "            execution_time = row[2]\n",
    "\n",
    "            if number_of_services not in result_dict:\n",
    "                result_dict[number_of_services] = [execution_time]\n",
    "            else:\n",
    "                result_dict[number_of_services].append(execution_time)\n",
    "\n",
    "        # Print the formatted output\n",
    "        with open(f\"window_percentage_performance_n{n}_w{w}.dat\", \"w\") as file:\n",
    "            for number_of_nodes, execution_times in result_dict.items():\n",
    "                starred = \" \".join(map(str, execution_times))\n",
    "                file.write(f\"{wino} {number_of_nodes} {starred}\\n\")\n",
    "                print(number_of_nodes, starred)\n"
   ]
  },
  {
   "cell_type": "code",
   "execution_count": null,
   "metadata": {},
   "outputs": [],
   "source": [
    "mydb.close()"
   ]
  },
  {
   "cell_type": "code",
   "execution_count": null,
   "metadata": {},
   "outputs": [
    {
     "ename": "OperationalError",
     "evalue": "MySQL Connection not available.",
     "output_type": "error",
     "traceback": [
      "\u001b[0;31m---------------------------------------------------------------------------\u001b[0m",
      "\u001b[0;31mOperationalError\u001b[0m                          Traceback (most recent call last)",
      "Cell \u001b[0;32mIn[46], line 1\u001b[0m\n\u001b[0;32m----> 1\u001b[0m mycursor \u001b[38;5;241m=\u001b[39m \u001b[43mmydb\u001b[49m\u001b[38;5;241;43m.\u001b[39;49m\u001b[43mcursor\u001b[49m\u001b[43m(\u001b[49m\u001b[43m)\u001b[49m\n\u001b[1;32m      2\u001b[0m \u001b[38;5;66;03m#result_dict = {}\u001b[39;00m\n\u001b[1;32m      3\u001b[0m \u001b[38;5;28;01mfor\u001b[39;00m n \u001b[38;5;129;01min\u001b[39;00m \u001b[38;5;28mrange\u001b[39m(\u001b[38;5;241m2\u001b[39m,\u001b[38;5;241m6\u001b[39m):\n",
      "File \u001b[0;32m~/Dottorato/03_paper_in_corso/Big Data Access Control - extension/.venv/lib/python3.11/site-packages/mysql/connector/connection_cext.py:728\u001b[0m, in \u001b[0;36mCMySQLConnection.cursor\u001b[0;34m(self, buffered, raw, prepared, cursor_class, dictionary, named_tuple)\u001b[0m\n\u001b[1;32m    726\u001b[0m \u001b[38;5;28mself\u001b[39m\u001b[38;5;241m.\u001b[39mhandle_unread_result(prepared)\n\u001b[1;32m    727\u001b[0m \u001b[38;5;28;01mif\u001b[39;00m \u001b[38;5;129;01mnot\u001b[39;00m \u001b[38;5;28mself\u001b[39m\u001b[38;5;241m.\u001b[39mis_connected():\n\u001b[0;32m--> 728\u001b[0m     \u001b[38;5;28;01mraise\u001b[39;00m OperationalError(\u001b[38;5;124m\"\u001b[39m\u001b[38;5;124mMySQL Connection not available.\u001b[39m\u001b[38;5;124m\"\u001b[39m)\n\u001b[1;32m    729\u001b[0m \u001b[38;5;28;01mif\u001b[39;00m cursor_class \u001b[38;5;129;01mis\u001b[39;00m \u001b[38;5;129;01mnot\u001b[39;00m \u001b[38;5;28;01mNone\u001b[39;00m:\n\u001b[1;32m    730\u001b[0m     \u001b[38;5;28;01mif\u001b[39;00m \u001b[38;5;129;01mnot\u001b[39;00m \u001b[38;5;28missubclass\u001b[39m(cursor_class, CMySQLCursor):\n",
      "\u001b[0;31mOperationalError\u001b[0m: MySQL Connection not available."
     ]
    }
   ],
   "source": [
    "\n",
    "\n",
    "mycursor = mydb.cursor()\n",
    "#result_dict = {}\n",
    "for n in range(2,6):\n",
    "    for w in range(1,n):\n",
    "        query = f\"\"\"SELECT number_of_services, number_of_nodes, avg(percentage)\n",
    "                FROM pippo.mytable\n",
    "                WHERE number_of_nodes = {n} AND window_size = {w}\n",
    "                GROUP BY number_of_nodes, number_of_services,window_size\n",
    "                ORDER BY number_of_services\n",
    "            \"\"\"\n",
    "        mycursor.execute(query)\n",
    "\n",
    "        result_dict = {}\n",
    "        for row in mycursor:\n",
    "            number_of_services = row[0]\n",
    "            number_of_nodes = row[1]\n",
    "            execution_time = row[2]\n",
    "\n",
    "            if number_of_services not in result_dict:\n",
    "                result_dict[number_of_services] = [execution_time]\n",
    "            else:\n",
    "                result_dict[number_of_services].append(execution_time)\n",
    "\n",
    "        # Print the formatted output\n",
    "        with open(f\"window_percentage_performance_n{n}_w{w}.dat\", \"w\") as file:\n",
    "            for number_of_nodes, execution_times in result_dict.items():\n",
    "                starred = \" \".join(map(str, execution_times))\n",
    "                file.write(f\"{number_of_nodes} {starred}\\n\")\n",
    "                print(number_of_nodes, starred)\n",
    "\n",
    "\n",
    "mydb.close()\n",
    "\n",
    "\n",
    "\n"
   ]
  }
 ],
 "metadata": {
  "kernelspec": {
   "display_name": ".venv",
   "language": "python",
   "name": "python3"
  },
  "language_info": {
   "codemirror_mode": {
    "name": "ipython",
    "version": 3
   },
   "file_extension": ".py",
   "mimetype": "text/x-python",
   "name": "python",
   "nbconvert_exporter": "python",
   "pygments_lexer": "ipython3",
   "version": "3.10.14"
  }
 },
 "nbformat": 4,
 "nbformat_minor": 2
}
